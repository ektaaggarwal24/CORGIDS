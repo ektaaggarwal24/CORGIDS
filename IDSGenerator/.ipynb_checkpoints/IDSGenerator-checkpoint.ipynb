{
 "cells": [
  {
   "cell_type": "code",
   "execution_count": 29,
   "metadata": {},
   "outputs": [
    {
     "name": "stderr",
     "output_type": "stream",
     "text": [
      "/usr/local/lib/python2.7/dist-packages/ipykernel_launcher.py:15: FutureWarning: Method .as_matrix will be removed in a future version. Use .values instead.\n",
      "  from ipykernel import kernelapp as app\n"
     ]
    },
    {
     "name": "stdout",
     "output_type": "stream",
     "text": [
      "currentDelta: 2.81430646089\n",
      "hiddenStates: 3\n",
      "currentDelta: 4.4179911415\n",
      "hiddenStates: 4\n",
      "currentDelta: 4.47627603455\n",
      "hiddenStates: 5\n",
      "currentDelta: 1.30435388043\n",
      "hiddenStates: 6\n",
      "currentDelta: 0.914421166726\n",
      "hiddenStates: 7\n"
     ]
    }
   ],
   "source": [
    "import glob\n",
    "from hmmlearn import hmm\n",
    "import pandas as pd\n",
    "import numpy as np\n",
    "\n",
    "def get_all_path_files(trainingFolderPath):\n",
    "    return glob.glob(trainingFolderPath)\n",
    "\n",
    "def get_features(allTrainingFiles,logicalProperties):\n",
    "    features = []\n",
    "    lengths = []\n",
    "    for f in allTrainingFiles:\n",
    "        df = pd.read_csv(f)\n",
    "        data = df[logicalProperties].as_matrix()\n",
    "        features.append(data)\n",
    "        lengths.append(data.shape[0])\n",
    "    return features,lengths\n",
    "\n",
    "def train_hmm(allTrainingFiles, logicalProperties, threshold):\n",
    "    features,lengths = get_features(allTrainingFiles,logicalProperties)\n",
    "    features = np.concatenate(features,axis=0)\n",
    "    hiddenStates = 2\n",
    "    prevLikelihood = None\n",
    "    currentDelta = None\n",
    "    while(True):\n",
    "        model = hmm.GaussianHMM(n_components=hiddenStates, covariance_type=\"tied\",verbose=False,n_iter=1000)\n",
    "        model.fit(features)\n",
    "        currentLikelihood = model.score(features,lengths=lengths)  \n",
    "        if prevLikelihood is None:\n",
    "            prevLikelihood = currentLikelihood\n",
    "            hiddenStates = hiddenStates + 1\n",
    "            continue\n",
    "        currentDelta = abs((currentLikelihood - prevLikelihood)*100./prevLikelihood)\n",
    "        print(\"currentDelta: \"+ str(currentDelta))\n",
    "        print(\"hiddenStates: \"+ str(hiddenStates))\n",
    "        if currentDelta < threshold:\n",
    "            break\n",
    "        prevLikelihood = currentLikelihood\n",
    "        hiddenStates = hiddenStates + 1\n",
    "    return model \n",
    "    \n",
    "def get_mean_std(HMMModel, allTrainingFiles, logicalProperties):\n",
    "    features, lengths = get_features( allTrainingFiles, logicalProperties)\n",
    "    prob = []\n",
    "    for feature,f in zip(features, allTrainingFiles):\n",
    "        prob.append(HMMModel.score(feature))\n",
    "    return np.mean(prob),np.std(prob)\n",
    "\n",
    "def trainHMMModel(trainingFolderPath, logicalProperties, threshold):\n",
    "    allTrainingFiles = get_all_path_files ( trainingFolderPath )\n",
    "    statsArray = []\n",
    "    currentHMMModel = train_hmm ( allTrainingFiles, logicalProperties, threshold )\n",
    "    statsArray.append( get_mean_std( currentHMMModel, allTrainingFiles, logicalProperties ))\n",
    "    return currentHMMModel, statsArray\n",
    "\n",
    "import os, sys, json, pickle\n",
    "\n",
    "platform = \"uav\".upper() #os.path.basename(sys.argv[1])\n",
    "idsGeneratorFilePath = os.getcwd()\n",
    "basedir = os.path.dirname(os.path.abspath(idsGeneratorFilePath))\n",
    "\n",
    "parametersFile = open(basedir + \"/parameters.txt\", \"r\" )\n",
    "parameters = json.load(parametersFile)\n",
    "\n",
    "logicalProperties = parameters[platform][\"logical_properties\"]\n",
    "trainingPath = basedir + parameters[platform][\"training_IDS_path\"]\n",
    "threshold = parameters[platform][\"training_threshold\"]\n",
    "\n",
    "print(\"Generating intrusion detection model..\")\n",
    "trainedHMM,statsArray = trainHMMModel(trainingPath, logicalProperties, threshold)\n",
    "\n",
    "trainedHMMFilePath = basedir + \"/CORGIDSModel/\" + platform + \"/trainedModel\" + platform + \".pickle\"\n",
    "trainedHMMStatsFilePath = basedir + \"/CORGIDSModel/\" + platform + \"/trainedModelStats\" + platform + \".pickle\"\n",
    "\n",
    "with open(trainedHMMFilePath, 'wb') as handle:\n",
    "    pickle.dump(trainedHMM, handle, protocol=pickle.HIGHEST_PROTOCOL)\n",
    "with open(trainedHMMStatsFilePath, 'wb') as handle2:\n",
    "    pickle.dump(statsArray, handle2, protocol=pickle.HIGHEST_PROTOCOL)\n",
    "    \n",
    "print(\"Intrusion detection model generated!\")\n"
   ]
  }
 ],
 "metadata": {
  "kernelspec": {
   "display_name": "Python 2",
   "language": "python",
   "name": "python2"
  },
  "language_info": {
   "codemirror_mode": {
    "name": "ipython",
    "version": 2
   },
   "file_extension": ".py",
   "mimetype": "text/x-python",
   "name": "python",
   "nbconvert_exporter": "python",
   "pygments_lexer": "ipython2",
   "version": "2.7.12"
  }
 },
 "nbformat": 4,
 "nbformat_minor": 2
}
